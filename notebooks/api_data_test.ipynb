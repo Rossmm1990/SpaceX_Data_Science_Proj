{
 "cells": [
  {
   "cell_type": "code",
   "execution_count": null,
   "metadata": {},
   "outputs": [],
   "source": [
    "import requests\n",
    "import pandas as pd\n",
    "import numpy as np\n",
    "import datetime\n",
    "\n",
    "spacex_url='https://api.spacexdata.com/v4/launches/past'\n",
    "\n",
    "response = requests.get(spacex_url)\n",
    "print(response.content)"
   ]
  },
  {
   "cell_type": "code",
   "execution_count": null,
   "metadata": {},
   "outputs": [],
   "source": [
    "class API_call:\n",
    "    def __init__(self, url):\n",
    "        self.url = url\n",
    "        self.df = None\n",
    "        self.cleaned_df = None\n",
    "        \n",
    "    def fetch_api(self):\n",
    "        response = requests.get(self.url)\n",
    "        data = response.json()\n",
    "        self.df = pd.json_normalize(data)\n",
    "        \n",
    "    def filter_data(self):\n",
    "        df = self.df\n",
    "        df = df[['rocket', 'payloads', 'launchpad', 'cores', 'flight_number', 'date_utc']]\n",
    "    "
   ]
  },
  {
   "cell_type": "code",
   "execution_count": null,
   "metadata": {},
   "outputs": [],
   "source": [
    "\n"
   ]
  },
  {
   "cell_type": "code",
   "execution_count": null,
   "metadata": {},
   "outputs": [],
   "source": [
    "test = API_call(spacex_url)\n",
    "test.fetch_api()"
   ]
  }
 ],
 "metadata": {
  "kernelspec": {
   "display_name": "SpaceX_DataProject_ENV",
   "language": "python",
   "name": "python3"
  },
  "language_info": {
   "codemirror_mode": {
    "name": "ipython",
    "version": 3
   },
   "file_extension": ".py",
   "mimetype": "text/x-python",
   "name": "python",
   "nbconvert_exporter": "python",
   "pygments_lexer": "ipython3",
   "version": "3.10.16"
  }
 },
 "nbformat": 4,
 "nbformat_minor": 2
}
