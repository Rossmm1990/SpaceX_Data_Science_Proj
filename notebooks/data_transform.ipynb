{
 "cells": [
  {
   "cell_type": "code",
   "execution_count": null,
   "metadata": {},
   "outputs": [],
   "source": [
    "import sys\n",
    "sys.path.insert(0, r'C:\\Users\\rossm\\Data_Science_Work\\SpaceX_DataProject\\data')\n",
    "import pandas as pd\n",
    "import numpy as np\n",
    "from raw_data import scraped_df, api_df\n",
    "\n",
    "\n"
   ]
  },
  {
   "cell_type": "markdown",
   "metadata": {},
   "source": []
  },
  {
   "cell_type": "code",
   "execution_count": null,
   "metadata": {},
   "outputs": [],
   "source": [
    "scraped_df\n"
   ]
  },
  {
   "cell_type": "code",
   "execution_count": null,
   "metadata": {},
   "outputs": [],
   "source": [
    "api_df\n",
    "api_df = api_df[['Flights', 'GridFins', 'Reused', 'Legs', 'LandingPad', 'Block', 'ReusedCount', 'Serial', 'Longitude', 'Latitude', 'Date']]"
   ]
  },
  {
   "cell_type": "code",
   "execution_count": null,
   "metadata": {},
   "outputs": [],
   "source": [
    "#cleaning Dates up and making them uniformt into a date object\n",
    "\n",
    "scraped_df['Date'] = scraped_df['Date'].str.rstrip(',')\n",
    "\n"
   ]
  },
  {
   "cell_type": "code",
   "execution_count": null,
   "metadata": {},
   "outputs": [],
   "source": [
    "scraped_df['Date'] = pd.to_datetime(scraped_df['Date']).dt.date\n",
    "print(scraped_df['Date'].head())\n",
    "\n",
    "api_df['Date'] = pd.to_datetime(api_df['Date']).dt.date\n",
    "print(api_df['Date'].head())"
   ]
  },
  {
   "cell_type": "code",
   "execution_count": null,
   "metadata": {},
   "outputs": [],
   "source": [
    "# checking to see if any df have duplicate dates\n",
    "scraped_duplicates = scraped_df.duplicated(subset=['Date']).sum()\n",
    "print(scraped_duplicates)\n",
    "\n",
    "api_duplicates = api_df.duplicated(subset=['Date']).sum()\n",
    "print(api_duplicates)\n",
    "\n"
   ]
  },
  {
   "cell_type": "code",
   "execution_count": null,
   "metadata": {},
   "outputs": [],
   "source": [
    "merged_df = scraped_df.merge(api_df, on='Date', how='left', suffixes=('','_api'))\n",
    "merged_df"
   ]
  },
  {
   "cell_type": "code",
   "execution_count": null,
   "metadata": {},
   "outputs": [],
   "source": [
    "\n",
    "merged_df.isna().sum()"
   ]
  },
  {
   "cell_type": "code",
   "execution_count": null,
   "metadata": {},
   "outputs": [],
   "source": [
    "merged_df.dtypes"
   ]
  },
  {
   "cell_type": "code",
   "execution_count": null,
   "metadata": {},
   "outputs": [],
   "source": [
    "merged_df1 = merged_df.dropna(subset=['GridFins'])"
   ]
  },
  {
   "cell_type": "code",
   "execution_count": null,
   "metadata": {},
   "outputs": [],
   "source": [
    "merged_df1['Booster landing'] = merged_df1['Booster landing'].str.strip()\n",
    "merged_df1 = merged_df1[~merged_df1['Booster landing'].isin(['No attempt','Uncontrolled'])]"
   ]
  },
  {
   "cell_type": "code",
   "execution_count": null,
   "metadata": {},
   "outputs": [],
   "source": [
    "missing_landings = merged_df1[merged_df['LandingPad'].isnull()]\n",
    "missing_landings"
   ]
  },
  {
   "cell_type": "code",
   "execution_count": null,
   "metadata": {},
   "outputs": [],
   "source": [
    "merged_df1.loc[44,'LandingPad'] = 'LZ-4'\n",
    "merged_df1['LandingPad'] = merged_df1['LandingPad'].fillna('LZ-1')"
   ]
  },
  {
   "cell_type": "code",
   "execution_count": null,
   "metadata": {},
   "outputs": [],
   "source": [
    "merged_df1.isna().sum()"
   ]
  },
  {
   "cell_type": "code",
   "execution_count": null,
   "metadata": {},
   "outputs": [],
   "source": [
    "spacex_df = merged_df1.rename(columns={'Flight No.': 'Flight #', 'Version Booster': 'Version booster', 'GridFins': 'Grid Fins', 'LandingPad': 'Landing Pad', 'ReusedCount': 'ReusedCount'})"
   ]
  },
  {
   "cell_type": "code",
   "execution_count": null,
   "metadata": {},
   "outputs": [],
   "source": [
    "spacex_df"
   ]
  },
  {
   "cell_type": "code",
   "execution_count": null,
   "metadata": {},
   "outputs": [],
   "source": []
  }
 ],
 "metadata": {
  "kernelspec": {
   "display_name": "SpaceX_DataProject_ENV",
   "language": "python",
   "name": "python3"
  },
  "language_info": {
   "codemirror_mode": {
    "name": "ipython",
    "version": 3
   },
   "file_extension": ".py",
   "mimetype": "text/x-python",
   "name": "python",
   "nbconvert_exporter": "python",
   "pygments_lexer": "ipython3",
   "version": "3.10.16"
  }
 },
 "nbformat": 4,
 "nbformat_minor": 2
}
