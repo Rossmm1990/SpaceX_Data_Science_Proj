{
 "cells": [
  {
   "cell_type": "code",
   "execution_count": 5,
   "metadata": {},
   "outputs": [],
   "source": [
    "import sys\n",
    "sys.path.insert(0, r'C:\\Users\\rossm\\Data_Science_Work\\SpaceX_DataProject\\data')\n",
    "import pandas as pd\n",
    "import numpy as np\n",
    "from raw_data import scraped_df, api_df\n",
    "\n",
    "\n"
   ]
  },
  {
   "cell_type": "code",
   "execution_count": 6,
   "metadata": {},
   "outputs": [
    {
     "name": "stdout",
     "output_type": "stream",
     "text": [
      "  Flight No. Launch site                               Payload Payload mass  \\\n",
      "0          1       CCAFS  Dragon Spacecraft Qualification Unit            0   \n",
      "1          2       CCAFS                                Dragon            0   \n",
      "2          3       CCAFS                                Dragon       525 kg   \n",
      "3          4       CCAFS                          SpaceX CRS-1     4,700 kg   \n",
      "4          5       CCAFS                          SpaceX CRS-2     4,877 kg   \n",
      "\n",
      "  Orbit Customer Launch outcome      Version Booster Booster landing  \\\n",
      "0   LEO   SpaceX      Success\\n  F9 v1.0 7 B0003.1 8         Failure   \n",
      "1   LEO     NASA        Success  F9 v1.0 7 B0004.1 8         Failure   \n",
      "2   LEO     NASA        Success  F9 v1.0 7 B0005.1 8    No attempt\\n   \n",
      "3   LEO     NASA      Success\\n  F9 v1.0 7 B0006.1 8      No attempt   \n",
      "4   LEO     NASA      Success\\n  F9 v1.0 7 B0007.1 8    No attempt\\n   \n",
      "\n",
      "               Date   Time  \n",
      "0      4 June 2010,  18:45  \n",
      "1  8 December 2010,  15:43  \n",
      "2      22 May 2012,  07:44  \n",
      "3   8 October 2012,  00:35  \n",
      "4     1 March 2013,  15:10  \n",
      "   Flight_number BoosterVersion  PayloadMass Orbit       LaunchSite  \\\n",
      "0              1       Falcon 1         20.0   LEO  Kwajalein Atoll   \n",
      "1              2       Falcon 1          NaN   LEO  Kwajalein Atoll   \n",
      "3              4       Falcon 1        165.0   LEO  Kwajalein Atoll   \n",
      "4              5       Falcon 1        200.0   LEO  Kwajalein Atoll   \n",
      "5              6       Falcon 9          NaN   LEO     CCSFS SLC 40   \n",
      "\n",
      "     Outcome  Flights  GridFins  Reused   Legs LandingPad  Block  ReusedCount  \\\n",
      "0  None None        1     False   False  False       None    NaN            0   \n",
      "1  None None        1     False   False  False       None    NaN            0   \n",
      "3  None None        1     False   False  False       None    NaN            0   \n",
      "4  None None        1     False   False  False       None    NaN            0   \n",
      "5  None None        1     False   False  False       None    1.0            0   \n",
      "\n",
      "     Serial   Longitude   Latitude        Date  \n",
      "0  Merlin1A  167.743129   9.047721  2006-03-24  \n",
      "1  Merlin2A  167.743129   9.047721  2007-03-21  \n",
      "3  Merlin2C  167.743129   9.047721  2008-09-28  \n",
      "4  Merlin3C  167.743129   9.047721  2009-07-13  \n",
      "5     B0003  -80.577366  28.561857  2010-06-04  \n"
     ]
    }
   ],
   "source": [
    "print(scraped_df.head())\n",
    "print(api_df.head())"
   ]
  },
  {
   "cell_type": "code",
   "execution_count": null,
   "metadata": {},
   "outputs": [],
   "source": []
  }
 ],
 "metadata": {
  "kernelspec": {
   "display_name": "SpaceX_DataProject_ENV",
   "language": "python",
   "name": "python3"
  },
  "language_info": {
   "codemirror_mode": {
    "name": "ipython",
    "version": 3
   },
   "file_extension": ".py",
   "mimetype": "text/x-python",
   "name": "python",
   "nbconvert_exporter": "python",
   "pygments_lexer": "ipython3",
   "version": "3.10.16"
  }
 },
 "nbformat": 4,
 "nbformat_minor": 2
}
